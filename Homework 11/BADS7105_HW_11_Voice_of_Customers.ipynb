{
  "nbformat": 4,
  "nbformat_minor": 0,
  "metadata": {
    "colab": {
      "name": "BADS7105_HW_11_Voice_of_Customers.ipynb",
      "provenance": []
    },
    "kernelspec": {
      "name": "python3",
      "display_name": "Python 3"
    },
    "language_info": {
      "name": "python"
    }
  },
  "cells": [
    {
      "cell_type": "code",
      "metadata": {
        "colab": {
          "base_uri": "https://localhost:8080/"
        },
        "id": "Rz1D1W89rgVH",
        "outputId": "303e05b6-0d61-4d4a-cb81-16516b91fee1"
      },
      "source": [
        "from google.colab import drive\n",
        "drive.mount('/content/drive')"
      ],
      "execution_count": 1,
      "outputs": [
        {
          "output_type": "stream",
          "text": [
            "Mounted at /content/drive\n"
          ],
          "name": "stdout"
        }
      ]
    },
    {
      "cell_type": "code",
      "metadata": {
        "colab": {
          "base_uri": "https://localhost:8080/"
        },
        "id": "0MT5xipcrqjG",
        "outputId": "8cddd5bd-a426-4f28-ca40-ffbda63edd1b"
      },
      "source": [
        "!pip install --upgrade pythainlp"
      ],
      "execution_count": 2,
      "outputs": [
        {
          "output_type": "stream",
          "text": [
            "Collecting pythainlp\n",
            "\u001b[?25l  Downloading https://files.pythonhosted.org/packages/6e/e7/837dd9ab52fac889af830dc094a1598251f70004a2f1707ab0ff8dc0f63a/pythainlp-2.3.1-py3-none-any.whl (11.0MB)\n",
            "\u001b[K     |████████████████████████████████| 11.0MB 239kB/s \n",
            "\u001b[?25hRequirement already satisfied, skipping upgrade: requests>=2.22.0 in /usr/local/lib/python3.7/dist-packages (from pythainlp) (2.23.0)\n",
            "Collecting tinydb>=3.0\n",
            "  Downloading https://files.pythonhosted.org/packages/af/cd/1ce3d93818cdeda0446b8033d21e5f32daeb3a866bbafd878a9a62058a9c/tinydb-4.4.0-py3-none-any.whl\n",
            "Collecting python-crfsuite>=0.9.6\n",
            "\u001b[?25l  Downloading https://files.pythonhosted.org/packages/79/47/58f16c46506139f17de4630dbcfb877ce41a6355a1bbf3c443edb9708429/python_crfsuite-0.9.7-cp37-cp37m-manylinux1_x86_64.whl (743kB)\n",
            "\u001b[K     |████████████████████████████████| 747kB 30.9MB/s \n",
            "\u001b[?25hRequirement already satisfied, skipping upgrade: chardet<4,>=3.0.2 in /usr/local/lib/python3.7/dist-packages (from requests>=2.22.0->pythainlp) (3.0.4)\n",
            "Requirement already satisfied, skipping upgrade: idna<3,>=2.5 in /usr/local/lib/python3.7/dist-packages (from requests>=2.22.0->pythainlp) (2.10)\n",
            "Requirement already satisfied, skipping upgrade: certifi>=2017.4.17 in /usr/local/lib/python3.7/dist-packages (from requests>=2.22.0->pythainlp) (2021.5.30)\n",
            "Requirement already satisfied, skipping upgrade: urllib3!=1.25.0,!=1.25.1,<1.26,>=1.21.1 in /usr/local/lib/python3.7/dist-packages (from requests>=2.22.0->pythainlp) (1.24.3)\n",
            "Installing collected packages: tinydb, python-crfsuite, pythainlp\n",
            "Successfully installed pythainlp-2.3.1 python-crfsuite-0.9.7 tinydb-4.4.0\n"
          ],
          "name": "stdout"
        }
      ]
    },
    {
      "cell_type": "code",
      "metadata": {
        "colab": {
          "base_uri": "https://localhost:8080/"
        },
        "id": "hpS7VDF3OO_D",
        "outputId": "2e15b3ca-1708-4056-fa2e-16275af197ae"
      },
      "source": [
        "!pip install wordcloud"
      ],
      "execution_count": 3,
      "outputs": [
        {
          "output_type": "stream",
          "text": [
            "Requirement already satisfied: wordcloud in /usr/local/lib/python3.7/dist-packages (1.5.0)\n",
            "Requirement already satisfied: pillow in /usr/local/lib/python3.7/dist-packages (from wordcloud) (7.1.2)\n",
            "Requirement already satisfied: numpy>=1.6.1 in /usr/local/lib/python3.7/dist-packages (from wordcloud) (1.19.5)\n"
          ],
          "name": "stdout"
        }
      ]
    },
    {
      "cell_type": "code",
      "metadata": {
        "id": "0FlrW2nyrmrf"
      },
      "source": [
        "import pandas as pd\n",
        "import numpy as np\n",
        "import re\n",
        "import matplotlib.pyplot as plt\n",
        "import string\n",
        "from functools import * \n",
        "import matplotlib as mpl\n",
        "plt.rcParams['font.family'] = 'tahoma'\n",
        "!wget -q https://github.com/Phonbopit/sarabun-webfont/raw/master/fonts/thsarabunnew-webfont.ttf\n",
        "mpl.font_manager.fontManager.addfont('thsarabunnew-webfont.ttf')\n",
        "mpl.rc('font', family='TH Sarabun New', size=10)"
      ],
      "execution_count": 4,
      "outputs": []
    },
    {
      "cell_type": "code",
      "metadata": {
        "id": "KjOCM_nFHEfo"
      },
      "source": [
        "%matplotlib inline"
      ],
      "execution_count": 32,
      "outputs": []
    },
    {
      "cell_type": "code",
      "metadata": {
        "id": "Ngo1qhk_rtrP"
      },
      "source": [
        "df = pd.read_csv(\"/content/drive/MyDrive/BADS7105_CRM_ANALYTICS_AND_INTELLIGENT/HW_11_Voice_of_Customers/CustomerReviews.csv\")"
      ],
      "execution_count": 5,
      "outputs": []
    },
    {
      "cell_type": "code",
      "metadata": {
        "colab": {
          "base_uri": "https://localhost:8080/",
          "height": 513
        },
        "id": "77XZNLVW1qkL",
        "outputId": "098fc411-103e-4387-88fa-192d50e8e1d5"
      },
      "source": [
        "plt.figure(figsize=(16,8))\n",
        "df.groupby(\"Restaurant\").mean()[[\"Rating\"]].plot.bar()\n",
        "plt.savefig(\"Plot_easy.png\")"
      ],
      "execution_count": 6,
      "outputs": [
        {
          "output_type": "display_data",
          "data": {
            "text/plain": [
              "<Figure size 1152x576 with 0 Axes>"
            ]
          },
          "metadata": {
            "tags": []
          }
        },
        {
          "output_type": "display_data",
          "data": {
            "image/png": "[encoded data removed]",
            "text/plain": [
              "<Figure size 432x288 with 1 Axes>"
            ]
          },
          "metadata": {
            "tags": [],
            "needs_background": "light"
          }
        }
      ]
    },
    {
      "cell_type": "code",
      "metadata": {
        "id": "Qn_vnrBeyOm6"
      },
      "source": [
        "df[\"บริการ\"] = np.where( df[\"ประเด็นที่พูด\"].str.count(\"บริการ\") > 0 , 1 , 0)\n",
        "df[\"อาหาร\"] = np.where( df[\"ประเด็นที่พูด\"].str.count(\"อาหาร\") > 0 , 1 , 0)\n",
        "df[\"ราคา\"] = np.where( df[\"ประเด็นที่พูด\"].str.count(\"ราคา\") > 0 , 1 , 0)"
      ],
      "execution_count": 7,
      "outputs": []
    },
    {
      "cell_type": "code",
      "metadata": {
        "colab": {
          "base_uri": "https://localhost:8080/",
          "height": 1000
        },
        "id": "bWUux1YC1YKb",
        "outputId": "ddcac35e-92ca-4193-e9ed-174aebb23397"
      },
      "source": [
        "df"
      ],
      "execution_count": 8,
      "outputs": [
        {
          "output_type": "execute_result",
          "data": {
            "text/html": [
              "<div>\n",
              "<style scoped>\n",
              "    .dataframe tbody tr th:only-of-type {\n",
              "        vertical-align: middle;\n",
              "    }\n",
              "\n",
              "    .dataframe tbody tr th {\n",
              "        vertical-align: top;\n",
              "    }\n",
              "\n",
              "    .dataframe thead th {\n",
              "        text-align: right;\n",
              "    }\n",
              "</style>\n",
              "<table border=\"1\" class=\"dataframe\">\n",
              "  <thead>\n",
              "    <tr style=\"text-align: right;\">\n",
              "      <th></th>\n",
              "      <th>Review ID</th>\n",
              "      <th>Restaurant_ID</th>\n",
              "      <th>Restaurant</th>\n",
              "      <th>User</th>\n",
              "      <th>Headline</th>\n",
              "      <th>Review</th>\n",
              "      <th>ประเด็นที่พูด</th>\n",
              "      <th>Rating</th>\n",
              "      <th>บริการ</th>\n",
              "      <th>อาหาร</th>\n",
              "      <th>ราคา</th>\n",
              "    </tr>\n",
              "  </thead>\n",
              "  <tbody>\n",
              "    <tr>\n",
              "      <th>0</th>\n",
              "      <td>1</td>\n",
              "      <td>352696Px-mo-mo-paradise-เดอะมอลล์-บางกะปิ</td>\n",
              "      <td>Mo-Mo-Paradise (โม โม พาราไดซ์) เดอะมอลล์ บางกะปิ</td>\n",
              "      <td>7b16469831074f7abc7824745ee75212</td>\n",
              "      <td>ที่สำคัญของร้านนี้คือบริการดีมากพนักงานน่ารักส...</td>\n",
              "      <td>ที่สำคัญของร้านนี้คือบริการดีมากพนักงานน่ารักส...</td>\n",
              "      <td>บริการ อาหาร ราคา</td>\n",
              "      <td>5.0</td>\n",
              "      <td>1</td>\n",
              "      <td>1</td>\n",
              "      <td>1</td>\n",
              "    </tr>\n",
              "    <tr>\n",
              "      <th>1</th>\n",
              "      <td>2</td>\n",
              "      <td>352696Px-mo-mo-paradise-เดอะมอลล์-บางกะปิ</td>\n",
              "      <td>Mo-Mo-Paradise (โม โม พาราไดซ์) เดอะมอลล์ บางกะปิ</td>\n",
              "      <td>pakkaramonpondej</td>\n",
              "      <td>รสชาติเหมือนทุกสาขา แต่สาขานี้ บริการดี ที่นั่งดี</td>\n",
              "      <td>นึกถึงชาบูญี่ปุ่นยังไงก็ต้อง คิดถึงโมโม่ พาราไ...</td>\n",
              "      <td>บริการ อาหาร</td>\n",
              "      <td>5.0</td>\n",
              "      <td>1</td>\n",
              "      <td>1</td>\n",
              "      <td>0</td>\n",
              "    </tr>\n",
              "    <tr>\n",
              "      <th>2</th>\n",
              "      <td>3</td>\n",
              "      <td>352696Px-mo-mo-paradise-เดอะมอลล์-บางกะปิ</td>\n",
              "      <td>Mo-Mo-Paradise (โม โม พาราไดซ์) เดอะมอลล์ บางกะปิ</td>\n",
              "      <td>saanowy</td>\n",
              "      <td>ชาบูพรีเมี่ยมสไตล์ญี่ปุ่น เนื้อดีมากกก</td>\n",
              "      <td>มาทานช่วงนี้ สามารถนั่งโต๊ะเดียวกัน หม้อเดียวก...</td>\n",
              "      <td>บริการ อาหาร ราคา</td>\n",
              "      <td>4.0</td>\n",
              "      <td>1</td>\n",
              "      <td>1</td>\n",
              "      <td>1</td>\n",
              "    </tr>\n",
              "    <tr>\n",
              "      <th>3</th>\n",
              "      <td>4</td>\n",
              "      <td>352696Px-mo-mo-paradise-เดอะมอลล์-บางกะปิ</td>\n",
              "      <td>Mo-Mo-Paradise (โม โม พาราไดซ์) เดอะมอลล์ บางกะปิ</td>\n",
              "      <td>ployynp</td>\n",
              "      <td>เนื้อดี ไอติมดี คุ้มค่าดี</td>\n",
              "      <td>ถ้านึกถึงชาบูที่มีเนื้อเน้นๆ ในราคาไม่โหดจนเกิ...</td>\n",
              "      <td>อาหาร ราคา</td>\n",
              "      <td>4.0</td>\n",
              "      <td>0</td>\n",
              "      <td>1</td>\n",
              "      <td>1</td>\n",
              "    </tr>\n",
              "    <tr>\n",
              "      <th>4</th>\n",
              "      <td>5</td>\n",
              "      <td>352696Px-mo-mo-paradise-เดอะมอลล์-บางกะปิ</td>\n",
              "      <td>Mo-Mo-Paradise (โม โม พาราไดซ์) เดอะมอลล์ บางกะปิ</td>\n",
              "      <td>665a902b335b434ab489f00f2fbb477e</td>\n",
              "      <td>อาหารมีคุณภาพ บริการดีค่ะ</td>\n",
              "      <td>เดินมาหน้าร้านแล้วได้กลิ่นชาบูหอมมาก ๆ  ประกอบ...</td>\n",
              "      <td>บริการ อาหาร</td>\n",
              "      <td>5.0</td>\n",
              "      <td>1</td>\n",
              "      <td>1</td>\n",
              "      <td>0</td>\n",
              "    </tr>\n",
              "    <tr>\n",
              "      <th>5</th>\n",
              "      <td>6</td>\n",
              "      <td>352696Px-mo-mo-paradise-เดอะมอลล์-บางกะปิ</td>\n",
              "      <td>Mo-Mo-Paradise (โม โม พาราไดซ์) เดอะมอลล์ บางกะปิ</td>\n",
              "      <td>12f2b56b28bb4849a92690cedc1cc50a</td>\n",
              "      <td>กินให้อิ่ม ที่ momo</td>\n",
              "      <td>ร้านบุฟเฟ่ ชาบูแนวญี่ปุ่น สายเนื้อหมู เนื้อวัว...</td>\n",
              "      <td>อาหาร ราคา</td>\n",
              "      <td>4.0</td>\n",
              "      <td>0</td>\n",
              "      <td>1</td>\n",
              "      <td>1</td>\n",
              "    </tr>\n",
              "    <tr>\n",
              "      <th>6</th>\n",
              "      <td>7</td>\n",
              "      <td>352696Px-mo-mo-paradise-เดอะมอลล์-บางกะปิ</td>\n",
              "      <td>Mo-Mo-Paradise (โม โม พาราไดซ์) เดอะมอลล์ บางกะปิ</td>\n",
              "      <td>f2628bf47a394345b133fec76a79661d</td>\n",
              "      <td>ชาบู - สุกกี้สไลต์ญี่ปุ่นที่แท้ทรู</td>\n",
              "      <td>Number 20 : โมโม – พาราไดส์ (สาขาเดอะมอลบางกะป...</td>\n",
              "      <td>อาหาร ราคา</td>\n",
              "      <td>4.0</td>\n",
              "      <td>0</td>\n",
              "      <td>1</td>\n",
              "      <td>1</td>\n",
              "    </tr>\n",
              "    <tr>\n",
              "      <th>7</th>\n",
              "      <td>8</td>\n",
              "      <td>352696Px-mo-mo-paradise-เดอะมอลล์-บางกะปิ</td>\n",
              "      <td>Mo-Mo-Paradise (โม โม พาราไดซ์) เดอะมอลล์ บางกะปิ</td>\n",
              "      <td>backscrash</td>\n",
              "      <td>ร้านชาบูเฟรนไชส์ ที่ราคาเหมาะสมกับคุณภาพ ถือว่...</td>\n",
              "      <td>ร้านชาบูเฟรนไชส์รสชาติดีมากคุ้มค่าเหมาะสมกับรา...</td>\n",
              "      <td>อาหาร ราคา</td>\n",
              "      <td>4.0</td>\n",
              "      <td>0</td>\n",
              "      <td>1</td>\n",
              "      <td>1</td>\n",
              "    </tr>\n",
              "    <tr>\n",
              "      <th>8</th>\n",
              "      <td>9</td>\n",
              "      <td>4621tm-shabushi-เดอะมอลล์บางกะปิ-ชั้น-g</td>\n",
              "      <td>Shabushi (ชาบูชิ) เดอะมอลล์บางกะปิ ชั้น G</td>\n",
              "      <td>a477a5812ada4d5b80fd04fca22bdbca</td>\n",
              "      <td>อร่อยคุ้ม ของทานเล่นเยอะมาก</td>\n",
              "      <td>มา านที่ขาบูชิต้องมาตอนหิว ไม่งั้นจะไม่คุ้มนะค...</td>\n",
              "      <td>อาหาร ราคา</td>\n",
              "      <td>4.0</td>\n",
              "      <td>0</td>\n",
              "      <td>1</td>\n",
              "      <td>1</td>\n",
              "    </tr>\n",
              "    <tr>\n",
              "      <th>9</th>\n",
              "      <td>10</td>\n",
              "      <td>4621tm-shabushi-เดอะมอลล์บางกะปิ-ชั้น-g</td>\n",
              "      <td>Shabushi (ชาบูชิ) เดอะมอลล์บางกะปิ ชั้น G</td>\n",
              "      <td>fd2ba94ec1bc4948ae109e2cb6c9cbc6</td>\n",
              "      <td>ทานอีก ชอบกุ้งทอดเทมปุระ</td>\n",
              "      <td>ใครชอบกุ้งทอดเทมปุระ แค่กุ้งเทมปุระก็คุ้มแล้ว ...</td>\n",
              "      <td>อาหาร</td>\n",
              "      <td>3.0</td>\n",
              "      <td>0</td>\n",
              "      <td>1</td>\n",
              "      <td>0</td>\n",
              "    </tr>\n",
              "    <tr>\n",
              "      <th>10</th>\n",
              "      <td>11</td>\n",
              "      <td>4621tm-shabushi-เดอะมอลล์บางกะปิ-ชั้น-g</td>\n",
              "      <td>Shabushi (ชาบูชิ) เดอะมอลล์บางกะปิ ชั้น G</td>\n",
              "      <td>ployynp</td>\n",
              "      <td>บุฟเฟ่ต์คุ้มๆในห้าง</td>\n",
              "      <td>กลับมาอัพเดทราคาชาบูชิ ตอนนี้อยู่ที่ 399 บาท n...</td>\n",
              "      <td>อาหาร ราคา</td>\n",
              "      <td>3.0</td>\n",
              "      <td>0</td>\n",
              "      <td>1</td>\n",
              "      <td>1</td>\n",
              "    </tr>\n",
              "    <tr>\n",
              "      <th>11</th>\n",
              "      <td>12</td>\n",
              "      <td>4621tm-shabushi-เดอะมอลล์บางกะปิ-ชั้น-g</td>\n",
              "      <td>Shabushi (ชาบูชิ) เดอะมอลล์บางกะปิ ชั้น G</td>\n",
              "      <td>c08b2776067a4026b882abfc6fca8330</td>\n",
              "      <td>เปลี่ยนจากกุ้งขาดสารอาหารเป็นกุ้งปอกเปลือกแล้ว...</td>\n",
              "      <td>ห่างหายไปนานสำหรับชาบูชิ ตั้งแต่ทางร้านได้ปรับ...</td>\n",
              "      <td>อาหาร ราคา</td>\n",
              "      <td>3.0</td>\n",
              "      <td>0</td>\n",
              "      <td>1</td>\n",
              "      <td>1</td>\n",
              "    </tr>\n",
              "    <tr>\n",
              "      <th>12</th>\n",
              "      <td>13</td>\n",
              "      <td>4621tm-shabushi-เดอะมอลล์บางกะปิ-ชั้น-g</td>\n",
              "      <td>Shabushi (ชาบูชิ) เดอะมอลล์บางกะปิ ชั้น G</td>\n",
              "      <td>a96ec47b6cff4bd1834c90d603ef0a7e</td>\n",
              "      <td>อิ่ม อร่อย ฝุดฝุด</td>\n",
              "      <td>เมื่อหลายวันก่อนนัดหาข้าวทานกับเดอะแกงค์ และก็...</td>\n",
              "      <td>อาหาร ราคา</td>\n",
              "      <td>4.0</td>\n",
              "      <td>0</td>\n",
              "      <td>1</td>\n",
              "      <td>1</td>\n",
              "    </tr>\n",
              "    <tr>\n",
              "      <th>13</th>\n",
              "      <td>14</td>\n",
              "      <td>4621tm-shabushi-เดอะมอลล์บางกะปิ-ชั้น-g</td>\n",
              "      <td>Shabushi (ชาบูชิ) เดอะมอลล์บางกะปิ ชั้น G</td>\n",
              "      <td>a6991f1e0e9b4916ab3ca91d86f8e481</td>\n",
              "      <td>จัดให้เต็มคราบกับชั่วโมงครึ่ง@Shabushi</td>\n",
              "      <td>บอกตรงๆว่าหลายครั้งที่เลือกจะกินบุฟเฟต์จะต้องอ...</td>\n",
              "      <td>อาหาร ราคา</td>\n",
              "      <td>3.0</td>\n",
              "      <td>0</td>\n",
              "      <td>1</td>\n",
              "      <td>1</td>\n",
              "    </tr>\n",
              "    <tr>\n",
              "      <th>14</th>\n",
              "      <td>15</td>\n",
              "      <td>4621tm-shabushi-เดอะมอลล์บางกะปิ-ชั้น-g</td>\n",
              "      <td>Shabushi (ชาบูชิ) เดอะมอลล์บางกะปิ ชั้น G</td>\n",
              "      <td>7eb0c7d8683e407f83cc4d18e51d800d</td>\n",
              "      <td>ชาบู ชาบูชิ</td>\n",
              "      <td>สวัสดีครับวันนี้จะขอมารีวิวร้านชาบูชิ บุฟเฟขวั...</td>\n",
              "      <td>บริการ อาหาร</td>\n",
              "      <td>4.0</td>\n",
              "      <td>1</td>\n",
              "      <td>1</td>\n",
              "      <td>0</td>\n",
              "    </tr>\n",
              "    <tr>\n",
              "      <th>15</th>\n",
              "      <td>16</td>\n",
              "      <td>4621tm-shabushi-เดอะมอลล์บางกะปิ-ชั้น-g</td>\n",
              "      <td>Shabushi (ชาบูชิ) เดอะมอลล์บางกะปิ ชั้น G</td>\n",
              "      <td>qvanqvan</td>\n",
              "      <td>บุฟเฟต์น้ำเดือด สายพานร่อน</td>\n",
              "      <td>ชาบูชิ สาขาเดอะมอลล์บางกะปิ ตั้งอยู่ประตูหน้าห...</td>\n",
              "      <td>อาหาร ราคา</td>\n",
              "      <td>4.0</td>\n",
              "      <td>0</td>\n",
              "      <td>1</td>\n",
              "      <td>1</td>\n",
              "    </tr>\n",
              "    <tr>\n",
              "      <th>16</th>\n",
              "      <td>17</td>\n",
              "      <td>436045MJ-ข้าน้อยขอชาบู</td>\n",
              "      <td>ข้าน้อยขอชาบู</td>\n",
              "      <td>ployynp</td>\n",
              "      <td>บุฟเฟ่ต์ชาบูและพิซซ่าไม่อั้นในราคา 199 บาท เน้...</td>\n",
              "      <td>หลังจากที่เคยลองสาขายูเนี่ยนมอลล์ไป รอบนี้มาที...</td>\n",
              "      <td>อาหาร ราคา</td>\n",
              "      <td>4.0</td>\n",
              "      <td>0</td>\n",
              "      <td>1</td>\n",
              "      <td>1</td>\n",
              "    </tr>\n",
              "    <tr>\n",
              "      <th>17</th>\n",
              "      <td>18</td>\n",
              "      <td>436045MJ-ข้าน้อยขอชาบู</td>\n",
              "      <td>ข้าน้อยขอชาบู</td>\n",
              "      <td>27a91236fe5e4559a4f097c97a480781</td>\n",
              "      <td>ร้านบุฟเฟ่ต์ ราคามิตรภาพ อยู่ชั้น4 ติดโรงหนัง ...</td>\n",
              "      <td>ร้านบุฟเฟ่ต์ที่มีโปรโมชั่นหัวละ199บาท ไม่รวมน้...</td>\n",
              "      <td>อาหาร ราคา</td>\n",
              "      <td>4.0</td>\n",
              "      <td>0</td>\n",
              "      <td>1</td>\n",
              "      <td>1</td>\n",
              "    </tr>\n",
              "    <tr>\n",
              "      <th>18</th>\n",
              "      <td>19</td>\n",
              "      <td>436045MJ-ข้าน้อยขอชาบู</td>\n",
              "      <td>ข้าน้อยขอชาบู</td>\n",
              "      <td>0b81d251e4db486f9bcdba73b374ed99</td>\n",
              "      <td>ของหลากหลาย ปนๆ งงๆ นิดหน่อย</td>\n",
              "      <td>เคยรู้จักร้านนี้จากที่ union mall ไม่เคยได้ลอง...</td>\n",
              "      <td>บริการ อาหาร ราคา</td>\n",
              "      <td>3.0</td>\n",
              "      <td>1</td>\n",
              "      <td>1</td>\n",
              "      <td>1</td>\n",
              "    </tr>\n",
              "    <tr>\n",
              "      <th>19</th>\n",
              "      <td>20</td>\n",
              "      <td>436045MJ-ข้าน้อยขอชาบู</td>\n",
              "      <td>ข้าน้อยขอชาบู</td>\n",
              "      <td>40e0e087f3914fd49a8933b5a29936ca</td>\n",
              "      <td>อร่อยมากค่ะ คุ้มค่าสมราคา บุฟเฟ่หมูผักต่างๆ รว...</td>\n",
              "      <td>อร่อยมากค่ะ คุ้มค่าสมราคา บุฟเฟ่หมูผักต่างๆ รว...</td>\n",
              "      <td>อาหาร ราคา</td>\n",
              "      <td>5.0</td>\n",
              "      <td>0</td>\n",
              "      <td>1</td>\n",
              "      <td>1</td>\n",
              "    </tr>\n",
              "    <tr>\n",
              "      <th>20</th>\n",
              "      <td>21</td>\n",
              "      <td>436045MJ-ข้าน้อยขอชาบู</td>\n",
              "      <td>ข้าน้อยขอชาบู</td>\n",
              "      <td>41841cb99ea243a3a8d4b006e946c586</td>\n",
              "      <td>แม้จะแปลกบ้าง แต่ก็ถือว่าอยู่ในเกณฑ์ที่ดี มีอา...</td>\n",
              "      <td>ก็ตามที่เขียนเลยครับ ว่า ถ้าจะจ่ายในราคา 199 บ...</td>\n",
              "      <td>อาหาร ราคา</td>\n",
              "      <td>NaN</td>\n",
              "      <td>0</td>\n",
              "      <td>1</td>\n",
              "      <td>1</td>\n",
              "    </tr>\n",
              "  </tbody>\n",
              "</table>\n",
              "</div>"
            ],
            "text/plain": [
              "    Review ID                              Restaurant_ID  ... อาหาร ราคา\n",
              "0           1  352696Px-mo-mo-paradise-เดอะมอลล์-บางกะปิ  ...     1    1\n",
              "1           2  352696Px-mo-mo-paradise-เดอะมอลล์-บางกะปิ  ...     1    0\n",
              "2           3  352696Px-mo-mo-paradise-เดอะมอลล์-บางกะปิ  ...     1    1\n",
              "3           4  352696Px-mo-mo-paradise-เดอะมอลล์-บางกะปิ  ...     1    1\n",
              "4           5  352696Px-mo-mo-paradise-เดอะมอลล์-บางกะปิ  ...     1    0\n",
              "5           6  352696Px-mo-mo-paradise-เดอะมอลล์-บางกะปิ  ...     1    1\n",
              "6           7  352696Px-mo-mo-paradise-เดอะมอลล์-บางกะปิ  ...     1    1\n",
              "7           8  352696Px-mo-mo-paradise-เดอะมอลล์-บางกะปิ  ...     1    1\n",
              "8           9    4621tm-shabushi-เดอะมอลล์บางกะปิ-ชั้น-g  ...     1    1\n",
              "9          10    4621tm-shabushi-เดอะมอลล์บางกะปิ-ชั้น-g  ...     1    0\n",
              "10         11    4621tm-shabushi-เดอะมอลล์บางกะปิ-ชั้น-g  ...     1    1\n",
              "11         12    4621tm-shabushi-เดอะมอลล์บางกะปิ-ชั้น-g  ...     1    1\n",
              "12         13    4621tm-shabushi-เดอะมอลล์บางกะปิ-ชั้น-g  ...     1    1\n",
              "13         14    4621tm-shabushi-เดอะมอลล์บางกะปิ-ชั้น-g  ...     1    1\n",
              "14         15    4621tm-shabushi-เดอะมอลล์บางกะปิ-ชั้น-g  ...     1    0\n",
              "15         16    4621tm-shabushi-เดอะมอลล์บางกะปิ-ชั้น-g  ...     1    1\n",
              "16         17                     436045MJ-ข้าน้อยขอชาบู  ...     1    1\n",
              "17         18                     436045MJ-ข้าน้อยขอชาบู  ...     1    1\n",
              "18         19                     436045MJ-ข้าน้อยขอชาบู  ...     1    1\n",
              "19         20                     436045MJ-ข้าน้อยขอชาบู  ...     1    1\n",
              "20         21                     436045MJ-ข้าน้อยขอชาบู  ...     1    1\n",
              "\n",
              "[21 rows x 11 columns]"
            ]
          },
          "metadata": {
            "tags": []
          },
          "execution_count": 8
        }
      ]
    },
    {
      "cell_type": "code",
      "metadata": {
        "id": "WnS9Dlh5x0XC"
      },
      "source": [
        "def thai_tokenizer(text):\n",
        "    from pythainlp.tokenize import word_tokenize\n",
        "    return word_tokenize(text, keep_whitespace=False)\n",
        "\n",
        "def remove_repettition(text):\n",
        "    token_list = list(text)\n",
        "    if len(token_list) > 2:\n",
        "        filter_list = [True, True]\n",
        "        n = len(token_list)\n",
        "        for i in range(2, n):\n",
        "            if (token_list[i] == token_list[i-1]) and (token_list[i] == token_list[i-2]):\n",
        "                filter_list.append(False)\n",
        "            else:\n",
        "                filter_list.append(True)\n",
        "\n",
        "        output = ''.join(np.array(token_list)[filter_list])\n",
        "    else:\n",
        "        output = text\n",
        "    return output\n",
        "\n",
        "def cleansing(text):\n",
        "    # \\t, \\n, \\xa0 and other special characters. Replace by blank string\n",
        "    text = re.sub('[\\t\\n\\xa0\\\"\\'!?\\/\\(\\)%\\:\\=\\-\\+\\*\\_ๆ#$&,<>]', '', text)\n",
        "    \n",
        "    # Numbers. Replace by space\n",
        "    text = re.sub('[0-9]', ' ', text)\n",
        "    \n",
        "    # Dot. Replace by space\n",
        "    text = re.sub('[\\.]', ' ', text)\n",
        "    \n",
        "    # One or more consecutive space. Replace by single space\n",
        "    text = re.sub('\\s+',' ',text)\n",
        "    \n",
        "    # Remove 2 or more repettition\n",
        "    text = remove_repettition(text)\n",
        "    test_string = text\n",
        "    pattern = re.compile(r\"[^\\u0E00-\\u0E7Fa-zA-Z' ]|^'|'$|''\")\n",
        "    char_to_remove = re.findall(pattern, test_string)\n",
        "    list_with_char_removed = [char for char in test_string if not char in char_to_remove]\n",
        "    result_string = ''.join(list_with_char_removed)\n",
        "    return result_string"
      ],
      "execution_count": 9,
      "outputs": []
    },
    {
      "cell_type": "code",
      "metadata": {
        "id": "1gbznrQDGxGE"
      },
      "source": [
        "from pythainlp.tokenize import word_tokenize\n",
        "def tknzt(wrd) :\n",
        "  ttkn =  word_tokenize(wrd,engine=\"newmm\")\n",
        "  return \" \".join([i for i in ttkn if i.strip() != \"\"])"
      ],
      "execution_count": 10,
      "outputs": []
    },
    {
      "cell_type": "code",
      "metadata": {
        "id": "l68CBScGr4gH"
      },
      "source": [
        "from pythainlp.tokenize import crfcut\n",
        "\n",
        "df[\"Review_Cln\"] = list(map(cleansing, df['Review']))\n",
        "df[\"Headline_Cln\"] = list(map(cleansing, df['Headline']))"
      ],
      "execution_count": 11,
      "outputs": []
    },
    {
      "cell_type": "code",
      "metadata": {
        "id": "np0K9YH_yVwa"
      },
      "source": [
        "df[\"Sentence_Cut\"] = list(map(crfcut.segment, df[\"Review_Cln\"]))"
      ],
      "execution_count": 12,
      "outputs": []
    },
    {
      "cell_type": "code",
      "metadata": {
        "id": "O9QNQ6qVG5OU"
      },
      "source": [
        "df[\"Text_Tkn\"] = list(map(tknzt, df['Review_Cln']))"
      ],
      "execution_count": 13,
      "outputs": []
    },
    {
      "cell_type": "code",
      "metadata": {
        "colab": {
          "base_uri": "https://localhost:8080/"
        },
        "id": "Gy6vg-6SHku1",
        "outputId": "12609ad2-d65c-4750-afd4-7f8e51fe4546"
      },
      "source": [
        "print('------------- Original Vs Clean --------------')\n",
        "print()\n",
        "print(\"Original : \",df.iloc[1,5])\n",
        "print()\n",
        "print(\"Clean : \",df.iloc[1,-4])\n",
        "print()"
      ],
      "execution_count": 45,
      "outputs": [
        {
          "output_type": "stream",
          "text": [
            "------------- Original Vs Clean --------------\n",
            "\n",
            "Original :  นึกถึงชาบูญี่ปุ่นยังไงก็ต้อง คิดถึงโมโม่ พาราไดซ์ คุณภาพเค้ามาตราฐานจริงๆ วันนี้มีโอกาสมาทานก่อนร้านปิด 30 นาที ทางร้านก็บริการดี จะมีก็แต่อาหาร เครื่องดื่มที่ทางร้านเริ่มทะยอยเก็บ แต่เราก็เข้าใจเพราะทางร้านแจ้งรายละเอียดการงดรับออร์เดอร์แล้ว \n",
            "           สาขานี้ พนักงานบริการดี น่ารักเป็นกันเอง ขออะไรก็ได้หมด ไม่มีเหวี่ยง เคยเจอสาขา พระราม 9 คือ ไม่โอเค พนักงาน ไม่พร้อมทำงานมาก CTW แม้จะเป็นพรีเมียมการบริการก็สู้สาขานี้ไม่ได้ Terminal 21 ลูกค้าเยอะ\n",
            "\n",
            "Clean :  นึกถึง ชาบู ญี่ปุ่น ยังไง ก็ ต้อง คิดถึง โม โม่ พาราไดซ์ คุณภาพ เค้า มาตรา ฐาน จริง วันนี้ มีโอ กา สมาทาน ก่อน ร้าน ปิด นาที ทาง ร้าน ก็ บริการ ดี จะ มี ก็ แต่ อาหาร เครื่องดื่ม ที่ทาง ร้าน เริ่ม ทะยอย เก็บ แต่ เรา ก็ เข้าใจ เพราะ ทาง ร้าน แจ้ง รายละเอียด การงด รับ ออร์เดอร์ แล้ว สาขา นี้ พนักงานบริการ ดี น่ารัก เป็นกันเอง ขอ อะไร ก็ได้ หมด ไม่ มี เหวี่ยง เคย เจอ สาขา พระราม คือ ไม่ โอเค พนักงาน ไม่ พร้อม ทำงาน มาก CTW แม้ จะ เป็น พรีเมียม การ บริการ ก็ สู้ สาขา นี้ ไม่ ได้ Terminal ลูกค้า เยอะ\n",
            "\n"
          ],
          "name": "stdout"
        }
      ]
    },
    {
      "cell_type": "code",
      "metadata": {
        "id": "2zW6T20lypgD"
      },
      "source": [
        "df[\"Service\"] = np.where(df[\"ประเด็นที่พูด\"].str.count(\"บริการ\") > 0 , 1 , 0 )\n",
        "df[\"Food\"] = np.where(df[\"ประเด็นที่พูด\"].str.count(\"อาหาร\") > 0 , 1 , 0 )\n",
        "df[\"Price\"] = np.where(df[\"ประเด็นที่พูด\"].str.count(\"ราคา\") > 0 , 1 , 0 )"
      ],
      "execution_count": 14,
      "outputs": []
    },
    {
      "cell_type": "code",
      "metadata": {
        "id": "fPZxBtSZA105"
      },
      "source": [
        "from sklearn.multiclass import OneVsRestClassifier\n",
        "from sklearn.pipeline import Pipeline"
      ],
      "execution_count": 15,
      "outputs": []
    },
    {
      "cell_type": "code",
      "metadata": {
        "colab": {
          "base_uri": "https://localhost:8080/"
        },
        "id": "m0arch-9iQAM",
        "outputId": "eb646622-d4d0-4a96-e039-1f32e3ab6b30"
      },
      "source": [
        "from sklearn.feature_extraction.text import CountVectorizer, TfidfVectorizer\n",
        "from pythainlp.tokenize import word_tokenize\n",
        "from pythainlp.tokenize import sent_tokenize\n",
        "from pythainlp.corpus import thai_stopwords\n",
        "from sklearn.svm import SVC, LinearSVC\n",
        "from sklearn.model_selection import train_test_split\n",
        "df_in = df.iloc[:-1,:]\n",
        "df_out = df.iloc[-1:,:]\n",
        "X = df_in[[\"Text_Tkn\"]]\n",
        "y = df_in[[\"บริการ\",\"อาหาร\",\"ราคา\"]]\n",
        "tfidf_vect = TfidfVectorizer(tokenizer=thai_tokenizer, stop_words=thai_stopwords() , ngram_range = (1,1))\n",
        "X_feature = tfidf_vect.fit_transform(df_in[\"Text_Tkn\"].values)\n",
        "X_train, X_test, y_train, y_test = train_test_split( X_feature, y, test_size=0.2, random_state=42)\n",
        "# data_tfidf_vect = tfidf_vect.fit_transform(df_test['cln_again'])\n",
        "clf = LinearSVC()\n",
        "ovs_model = OneVsRestClassifier(clf, n_jobs=-1)"
      ],
      "execution_count": 16,
      "outputs": [
        {
          "output_type": "stream",
          "text": [
            "/usr/local/lib/python3.7/dist-packages/sklearn/feature_extraction/text.py:385: UserWarning: Your stop_words may be inconsistent with your preprocessing. Tokenizing the stop words generated tokens ['กระไร', 'กาลนาน', 'ชิ้น', 'ดังที่', 'ดี', 'ดีกว่า', 'ด้อย', 'ตัว', 'ต่อไป', 'ถัดไป', 'ทั่วถึง', 'ทำ', 'ที่จะ', 'ท่าน', 'ท้าย', 'นา', 'บอ', 'บัด', 'ระยะเวลา', 'ล่ะ', 'วันวาน', 'สม', 'สมบูรณ์', 'สํา', 'หน้า', 'หรับ', 'หา', 'อย', 'เกี่ยว', 'เก่า', 'เดี๋ยวนี้', 'เย็น', 'เล่า', 'เสมือน', 'เหมือนกัน', 'แด่', 'แม้น', 'แหล่', 'โง้น', 'โน้น', 'ใด', 'ไว', 'ไหม'] not in stop_words.\n",
            "  'stop_words.' % sorted(inconsistent))\n"
          ],
          "name": "stderr"
        }
      ]
    },
    {
      "cell_type": "code",
      "metadata": {
        "id": "R4aMxr2rgRxt"
      },
      "source": [
        "pipeline = Pipeline([\n",
        "                     (\"ovs_clf\" , ovs_model)\n",
        "                     ])"
      ],
      "execution_count": 17,
      "outputs": []
    },
    {
      "cell_type": "code",
      "metadata": {
        "id": "JMUYlaEE2ZVg"
      },
      "source": [
        " keep_model = {}\n",
        " for category in  y_train :\n",
        "   pipeline = Pipeline([\n",
        "                     (\"ovs_clf\" , ovs_model)\n",
        "                     ])\n",
        "   pipeline.fit(X_train,y_train[category])\n",
        "   keep_model[category] = pipeline"
      ],
      "execution_count": 18,
      "outputs": []
    },
    {
      "cell_type": "code",
      "metadata": {
        "colab": {
          "base_uri": "https://localhost:8080/"
        },
        "id": "lX8XUDqp141p",
        "outputId": "67dcc39a-f953-4126-98a7-46f64ebb72bc"
      },
      "source": [
        "pipeline.fit(X_train,y_train[category])"
      ],
      "execution_count": 19,
      "outputs": [
        {
          "output_type": "execute_result",
          "data": {
            "text/plain": [
              "Pipeline(memory=None,\n",
              "         steps=[('ovs_clf',\n",
              "                 OneVsRestClassifier(estimator=LinearSVC(C=1.0,\n",
              "                                                         class_weight=None,\n",
              "                                                         dual=True,\n",
              "                                                         fit_intercept=True,\n",
              "                                                         intercept_scaling=1,\n",
              "                                                         loss='squared_hinge',\n",
              "                                                         max_iter=1000,\n",
              "                                                         multi_class='ovr',\n",
              "                                                         penalty='l2',\n",
              "                                                         random_state=None,\n",
              "                                                         tol=0.0001,\n",
              "                                                         verbose=0),\n",
              "                                     n_jobs=-1))],\n",
              "         verbose=False)"
            ]
          },
          "metadata": {
            "tags": []
          },
          "execution_count": 19
        }
      ]
    },
    {
      "cell_type": "code",
      "metadata": {
        "colab": {
          "base_uri": "https://localhost:8080/"
        },
        "id": "0PAP3WL15ZRe",
        "outputId": "a3b1954d-575e-4fa0-fa0b-929bf1a79b4f"
      },
      "source": [
        "from sklearn.metrics import accuracy_score, make_scorer, roc_curve, roc_auc_score\n",
        "prediction = pipeline.predict(X_test)\n",
        "print('Test accuracy is {}'.format(accuracy_score(y_test[category].values, prediction)))"
      ],
      "execution_count": 20,
      "outputs": [
        {
          "output_type": "stream",
          "text": [
            "Test accuracy is 0.75\n"
          ],
          "name": "stdout"
        }
      ]
    },
    {
      "cell_type": "code",
      "metadata": {
        "id": "p-j-0gnG_Eyd"
      },
      "source": [
        "df_tfidf = pd.DataFrame(X_feature.todense(), columns=tfidf_vect.get_feature_names())"
      ],
      "execution_count": 21,
      "outputs": []
    },
    {
      "cell_type": "code",
      "metadata": {
        "colab": {
          "base_uri": "https://localhost:8080/"
        },
        "id": "eUYBn2V193R3",
        "outputId": "446229d1-167a-4f1d-814c-da011be5fe0c"
      },
      "source": [
        "dddks = {}\n",
        "ls_acc = []\n",
        "ls_cate = []\n",
        "for category in  y_train :\n",
        "  prediction = keep_model[category].predict(X_test)\n",
        "  print('Category {} Test accuracy is {}'.format(category,accuracy_score(y_test[category].values, prediction)))\n",
        "  ls_cate.append(category)\n",
        "  ls_acc.append(accuracy_score(y_test[category].values, prediction))\n",
        "dddks[\"Category\"] = ls_cate\n",
        "dddks[\"Accuracy\"] = ls_acc"
      ],
      "execution_count": 22,
      "outputs": [
        {
          "output_type": "stream",
          "text": [
            "Category บริการ Test accuracy is 0.5\n",
            "Category อาหาร Test accuracy is 1.0\n",
            "Category ราคา Test accuracy is 0.75\n"
          ],
          "name": "stdout"
        }
      ]
    },
    {
      "cell_type": "code",
      "metadata": {
        "id": "-We17WhOGtcB"
      },
      "source": [
        "data_accyt = pd.DataFrame(dddks)"
      ],
      "execution_count": 28,
      "outputs": []
    },
    {
      "cell_type": "code",
      "metadata": {
        "colab": {
          "base_uri": "https://localhost:8080/",
          "height": 312
        },
        "id": "6DNt2OYOGVvI",
        "outputId": "2998828b-7c6c-4848-d007-80c88a4c8e10"
      },
      "source": [
        "plt.figure(figsize = (18, 12), facecolor = None)\n",
        "data_accyt.plot.bar(x=\"Category\",y=\"Accuracy\")\n",
        "plt.savefig(\"Plot_Category_acc.png\",dpi=600)"
      ],
      "execution_count": 33,
      "outputs": [
        {
          "output_type": "display_data",
          "data": {
            "text/plain": [
              "<Figure size 1296x864 with 0 Axes>"
            ]
          },
          "metadata": {
            "tags": []
          }
        },
        {
          "output_type": "display_data",
          "data": {
            "image/png": "[encoded data removed]",
            "text/plain": [
              "<Figure size 432x288 with 1 Axes>"
            ]
          },
          "metadata": {
            "tags": [],
            "needs_background": "light"
          }
        }
      ]
    },
    {
      "cell_type": "code",
      "metadata": {
        "id": "yQTAnel2_38c"
      },
      "source": [
        "X_feature_test = tfidf_vect.transform(df_out[\"Text_Tkn\"].values)"
      ],
      "execution_count": 100,
      "outputs": []
    },
    {
      "cell_type": "code",
      "metadata": {
        "id": "7ycJIDexAL0S"
      },
      "source": [
        "dict_result={}\n",
        "for category in  y_train :\n",
        "  result = keep_model[category].predict(X_feature_test)\n",
        "  dict_result[category] = list(result)"
      ],
      "execution_count": 104,
      "outputs": []
    },
    {
      "cell_type": "code",
      "metadata": {
        "colab": {
          "base_uri": "https://localhost:8080/",
          "height": 78
        },
        "id": "m_UDuTO3CMl4",
        "outputId": "72496c0f-744e-484b-ae4b-b07f63d0ee02"
      },
      "source": [
        "result_df = pd.DataFrame(dict_result)\n",
        "result_df"
      ],
      "execution_count": 121,
      "outputs": [
        {
          "output_type": "execute_result",
          "data": {
            "text/html": [
              "<div>\n",
              "<style scoped>\n",
              "    .dataframe tbody tr th:only-of-type {\n",
              "        vertical-align: middle;\n",
              "    }\n",
              "\n",
              "    .dataframe tbody tr th {\n",
              "        vertical-align: top;\n",
              "    }\n",
              "\n",
              "    .dataframe thead th {\n",
              "        text-align: right;\n",
              "    }\n",
              "</style>\n",
              "<table border=\"1\" class=\"dataframe\">\n",
              "  <thead>\n",
              "    <tr style=\"text-align: right;\">\n",
              "      <th></th>\n",
              "      <th>บริการ</th>\n",
              "      <th>อาหาร</th>\n",
              "      <th>ราคา</th>\n",
              "    </tr>\n",
              "  </thead>\n",
              "  <tbody>\n",
              "    <tr>\n",
              "      <th>0</th>\n",
              "      <td>1</td>\n",
              "      <td>1</td>\n",
              "      <td>1</td>\n",
              "    </tr>\n",
              "  </tbody>\n",
              "</table>\n",
              "</div>"
            ],
            "text/plain": [
              "   บริการ  อาหาร  ราคา\n",
              "0       1      1     1"
            ]
          },
          "metadata": {
            "tags": []
          },
          "execution_count": 121
        }
      ]
    },
    {
      "cell_type": "code",
      "metadata": {
        "id": "wHAcX75UDTbg"
      },
      "source": [
        "ndf_out = df_out.reset_index()"
      ],
      "execution_count": 124,
      "outputs": []
    },
    {
      "cell_type": "code",
      "metadata": {
        "id": "gcDRsfEpLseL"
      },
      "source": [
        "df_tfidf = pd.DataFrame(X_feature_test.todense(), columns=tfidf_vect.get_feature_names())"
      ],
      "execution_count": 151,
      "outputs": []
    },
    {
      "cell_type": "code",
      "metadata": {
        "colab": {
          "base_uri": "https://localhost:8080/",
          "height": 78
        },
        "id": "COMRQO6sBsl7",
        "outputId": "3d23c278-abff-4403-e8e7-63b3f8c25150"
      },
      "source": [
        "pd.concat([ndf_out[[\"Review\",\"Service\",\"Food\",\"Price\"]],result_df],axis=1)"
      ],
      "execution_count": 129,
      "outputs": [
        {
          "output_type": "execute_result",
          "data": {
            "text/html": [
              "<div>\n",
              "<style scoped>\n",
              "    .dataframe tbody tr th:only-of-type {\n",
              "        vertical-align: middle;\n",
              "    }\n",
              "\n",
              "    .dataframe tbody tr th {\n",
              "        vertical-align: top;\n",
              "    }\n",
              "\n",
              "    .dataframe thead th {\n",
              "        text-align: right;\n",
              "    }\n",
              "</style>\n",
              "<table border=\"1\" class=\"dataframe\">\n",
              "  <thead>\n",
              "    <tr style=\"text-align: right;\">\n",
              "      <th></th>\n",
              "      <th>Review</th>\n",
              "      <th>Service</th>\n",
              "      <th>Food</th>\n",
              "      <th>Price</th>\n",
              "      <th>บริการ</th>\n",
              "      <th>อาหาร</th>\n",
              "      <th>ราคา</th>\n",
              "    </tr>\n",
              "  </thead>\n",
              "  <tbody>\n",
              "    <tr>\n",
              "      <th>0</th>\n",
              "      <td>ก็ตามที่เขียนเลยครับ ว่า ถ้าจะจ่ายในราคา 199 บ...</td>\n",
              "      <td>0</td>\n",
              "      <td>1</td>\n",
              "      <td>1</td>\n",
              "      <td>1</td>\n",
              "      <td>1</td>\n",
              "      <td>1</td>\n",
              "    </tr>\n",
              "  </tbody>\n",
              "</table>\n",
              "</div>"
            ],
            "text/plain": [
              "                                              Review  Service  ...  อาหาร  ราคา\n",
              "0  ก็ตามที่เขียนเลยครับ ว่า ถ้าจะจ่ายในราคา 199 บ...        0  ...      1     1\n",
              "\n",
              "[1 rows x 7 columns]"
            ]
          },
          "metadata": {
            "tags": []
          },
          "execution_count": 129
        }
      ]
    },
    {
      "cell_type": "code",
      "metadata": {
        "id": "rjNbLMFeMKzH"
      },
      "source": [
        "import copy \n",
        "from wordcloud import WordCloud, STOPWORDS\n"
      ],
      "execution_count": 175,
      "outputs": []
    },
    {
      "cell_type": "code",
      "metadata": {
        "id": "ynz_VuycQdST"
      },
      "source": [
        "!wget -q http://www.arts.chula.ac.th/ling/wp-content/uploads/TH-Sarabun_Chula1.1.zip -O font.zip\n",
        "!unzip -qj font.zip TH-Sarabun_Chula1.1/THSarabunChula-Regular.ttf\n",
        "# !pip install -U --pre matplotlib  \n",
        "import matplotlib as mpl\n",
        "mpl.font_manager.fontManager.addfont('THSarabunChula-Regular.ttf')\n",
        "mpl.rc('font', family='TH Sarabun Chula')"
      ],
      "execution_count": 141,
      "outputs": []
    },
    {
      "cell_type": "code",
      "metadata": {
        "id": "e4rOE-uQQiAq"
      },
      "source": [
        "df_tfidf = pd.DataFrame(X_feature_test.todense(), columns=tfidf_vect.get_feature_names())\n",
        "df_tfidf = df_tfidf.T\n",
        "df_tfidf[\"TFIDF\"] = df_tfidf.sum(axis=1)\n",
        "dftfidf = pd.DataFrame({\"Word\" : df_tfidf.index , \"TFIDF\": df_tfidf[\"TFIDF\"].tolist()})"
      ],
      "execution_count": 153,
      "outputs": []
    },
    {
      "cell_type": "code",
      "metadata": {
        "id": "7XkxXtWdTe1a"
      },
      "source": [
        "dfdfdfdfdf_test = copy.deepcopy(dftfidf)\n",
        "dfdfdfdfdf_test = dfdfdfdfdf_test[dfdfdfdfdf_test[\"TFIDF\"] > 0]\n",
        "dfdfdfdfdf_test.index = dfdfdfdfdf_test[\"Word\"].tolist()\n",
        "dfdfdfdfdf_test = dfdfdfdfdf_test.drop(\"Word\",axis=1)"
      ],
      "execution_count": 170,
      "outputs": []
    },
    {
      "cell_type": "code",
      "metadata": {
        "id": "TNBQmeeVHdA8"
      },
      "source": [
        "Cloud = WordCloud(font_path=\"/content/THSarabunChula-Regular.ttf\",background_color=\"white\", max_words=50).generate_from_frequencies(dfdfdfdfdf_test.sum(axis=1))"
      ],
      "execution_count": 171,
      "outputs": []
    },
    {
      "cell_type": "code",
      "metadata": {
        "colab": {
          "base_uri": "https://localhost:8080/",
          "height": 318
        },
        "id": "oQdVWtdzVl5u",
        "outputId": "809185a7-4899-45a8-ca83-128a191f191b"
      },
      "source": [
        "plt.figure(figsize = (8, 8), facecolor = None)\n",
        "plt.imshow(Cloud)\n",
        "plt.axis(\"off\")\n",
        "# plt.title(f'Word Cloud by TFIDF {ikan}')\n",
        "plt.tight_layout(pad = 0)\n",
        "Cloud.to_file(f'HM10_VOICE.png')\n",
        "plt.show()"
      ],
      "execution_count": 174,
      "outputs": [
        {
          "output_type": "display_data",
          "data": {
            "image/png": "[encoded data removed]",
            "text/plain": [
              "<Figure size 576x576 with 1 Axes>"
            ]
          },
          "metadata": {
            "tags": [],
            "needs_background": "light"
          }
        }
      ]
    }
  ]
}