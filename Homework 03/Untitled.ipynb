{
 "cells": [
  {
   "cell_type": "code",
   "execution_count": 18,
   "id": "greater-flight",
   "metadata": {},
   "outputs": [],
   "source": [
    "from itertools import permutations \n",
    "  \n",
    "# Get all permutations of length 2 \n",
    "# and length 2 \n",
    "perm = permutations([\"A\", \"B\"], 3) \n",
    "  \n",
    "# Print the obtained permutations \n",
    "for i in list(perm): \n",
    "    print (i) "
   ]
  },
  {
   "cell_type": "code",
   "execution_count": null,
   "id": "fantastic-classics",
   "metadata": {},
   "outputs": [],
   "source": []
  }
 ],
 "metadata": {
  "kernelspec": {
   "display_name": "Python 3",
   "language": "python",
   "name": "python3"
  },
  "language_info": {
   "codemirror_mode": {
    "name": "ipython",
    "version": 3
   },
   "file_extension": ".py",
   "mimetype": "text/x-python",
   "name": "python",
   "nbconvert_exporter": "python",
   "pygments_lexer": "ipython3",
   "version": "3.8.8"
  }
 },
 "nbformat": 4,
 "nbformat_minor": 5
}
