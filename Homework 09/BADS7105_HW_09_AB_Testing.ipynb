{
  "nbformat": 4,
  "nbformat_minor": 0,
  "metadata": {
    "colab": {
      "name": "BADS7105_HW_09_AB Testing.ipynb",
      "provenance": [],
      "collapsed_sections": []
    },
    "kernelspec": {
      "name": "python3",
      "display_name": "Python 3"
    },
    "language_info": {
      "name": "python"
    }
  },
  "cells": [
    {
      "cell_type": "code",
      "metadata": {
        "colab": {
          "base_uri": "https://localhost:8080/"
        },
        "id": "OJHOhG9MOdDc",
        "outputId": "10c7dfce-fed8-45cd-bb26-88ea862facf4"
      },
      "source": [
        "from google.colab import drive\n",
        "drive.mount('/content/drive')"
      ],
      "execution_count": 1,
      "outputs": [
        {
          "output_type": "stream",
          "text": [
            "Mounted at /content/drive\n"
          ],
          "name": "stdout"
        }
      ]
    },
    {
      "cell_type": "code",
      "metadata": {
        "id": "PSxT_fPv3NPU"
      },
      "source": [
        "import numpy as np\n",
        "import pandas as pd\n",
        "import datetime as dt\n",
        "import numpy as np\n",
        "import matplotlib.pyplot as plt\n",
        "import xgboost as xgb\n",
        "import seaborn as sns\n",
        "from sklearn.model_selection import train_test_split, cross_val_score, StratifiedKFold, GridSearchCV\n",
        "from sklearn.metrics import precision_score, recall_score, f1_score, roc_auc_score, accuracy_score, classification_report, roc_curve, auc , silhouette_samples , silhouette_score\n",
        "from imblearn.under_sampling import RandomUnderSampler\n",
        "from imblearn.over_sampling import RandomOverSampler\n",
        "from imblearn.over_sampling import SMOTE\n",
        "from xgboost import plot_importance\n",
        "from sklearn.linear_model import Lasso, LogisticRegression\n",
        "from sklearn.metrics import confusion_matrix\n",
        "from sklearn.cluster import KMeans\n",
        "from sklearn.preprocessing import StandardScaler\n",
        "import joblib\n",
        "from functools import *\n",
        "from sklearn.feature_selection import SelectFromModel\n",
        "from scipy.stats import uniform, randint\n",
        "from sklearn.model_selection import RandomizedSearchCV\n",
        "from sklearn.ensemble import RandomForestClassifier\n",
        "from scipy.stats import chisquare\n",
        "%matplotlib inline"
      ],
      "execution_count": 88,
      "outputs": []
    },
    {
      "cell_type": "code",
      "metadata": {
        "id": "J2GuTaw23UvL"
      },
      "source": [
        "df_ggsheet = pd.read_excel(\"/content/drive/MyDrive/BADS7105_CRM_ANALYTICS_AND_INTELLIGENT/HW_09_AB Testing/BADS7105_CRM_AB_TESTING (การตอบกลับ) (1).xlsx\")"
      ],
      "execution_count": 68,
      "outputs": []
    },
    {
      "cell_type": "code",
      "metadata": {
        "id": "x2Td5bJJ4VId"
      },
      "source": [
        "df_ggsheet.columns = [\"Time\",\"Year_Interval\",\"Team_Supporter\",\"Team_Hater\"]\n"
      ],
      "execution_count": 69,
      "outputs": []
    },
    {
      "cell_type": "code",
      "metadata": {
        "id": "HTs3OUTK-qa5"
      },
      "source": [
        "ls_sel_tm = ['Arsenal',\n",
        " 'Chelsea',\n",
        " 'Liverpool',\n",
        " 'Manchester City',\n",
        " 'Manchester United',\n",
        " 'Spurs']"
      ],
      "execution_count": 70,
      "outputs": []
    },
    {
      "cell_type": "code",
      "metadata": {
        "id": "8UMHvl-l95zJ"
      },
      "source": [
        "df_ggsheet = df_ggsheet[(df_ggsheet[\"Team_Supporter\"].isin(ls_sel_tm)) & (df_ggsheet[\"Team_Hater\"].isin(ls_sel_tm))].reset_index().drop(\"index\",axis=1)"
      ],
      "execution_count": 71,
      "outputs": []
    },
    {
      "cell_type": "code",
      "metadata": {
        "colab": {
          "base_uri": "https://localhost:8080/",
          "height": 408
        },
        "id": "4OCCSZL-634A",
        "outputId": "ca9c3e4a-111d-4430-9439-6428cc7b320d"
      },
      "source": [
        "df_ggsheet"
      ],
      "execution_count": 72,
      "outputs": [
        {
          "output_type": "execute_result",
          "data": {
            "text/html": [
              "<div>\n",
              "<style scoped>\n",
              "    .dataframe tbody tr th:only-of-type {\n",
              "        vertical-align: middle;\n",
              "    }\n",
              "\n",
              "    .dataframe tbody tr th {\n",
              "        vertical-align: top;\n",
              "    }\n",
              "\n",
              "    .dataframe thead th {\n",
              "        text-align: right;\n",
              "    }\n",
              "</style>\n",
              "<table border=\"1\" class=\"dataframe\">\n",
              "  <thead>\n",
              "    <tr style=\"text-align: right;\">\n",
              "      <th></th>\n",
              "      <th>Time</th>\n",
              "      <th>Year_Interval</th>\n",
              "      <th>Team_Supporter</th>\n",
              "      <th>Team_Hater</th>\n",
              "    </tr>\n",
              "  </thead>\n",
              "  <tbody>\n",
              "    <tr>\n",
              "      <th>0</th>\n",
              "      <td>2021-05-01 23:10:46.895</td>\n",
              "      <td>1990-1999</td>\n",
              "      <td>Arsenal</td>\n",
              "      <td>Spurs</td>\n",
              "    </tr>\n",
              "    <tr>\n",
              "      <th>1</th>\n",
              "      <td>2021-05-01 23:10:55.895</td>\n",
              "      <td>1990-1999</td>\n",
              "      <td>Chelsea</td>\n",
              "      <td>Manchester United</td>\n",
              "    </tr>\n",
              "    <tr>\n",
              "      <th>2</th>\n",
              "      <td>2021-05-01 23:11:48.714</td>\n",
              "      <td>1990-1999</td>\n",
              "      <td>Manchester United</td>\n",
              "      <td>Liverpool</td>\n",
              "    </tr>\n",
              "    <tr>\n",
              "      <th>3</th>\n",
              "      <td>2021-05-01 23:12:08.657</td>\n",
              "      <td>1980-1989</td>\n",
              "      <td>Arsenal</td>\n",
              "      <td>Manchester United</td>\n",
              "    </tr>\n",
              "    <tr>\n",
              "      <th>4</th>\n",
              "      <td>2021-05-01 23:13:29.379</td>\n",
              "      <td>1990-1999</td>\n",
              "      <td>Liverpool</td>\n",
              "      <td>Manchester United</td>\n",
              "    </tr>\n",
              "    <tr>\n",
              "      <th>...</th>\n",
              "      <td>...</td>\n",
              "      <td>...</td>\n",
              "      <td>...</td>\n",
              "      <td>...</td>\n",
              "    </tr>\n",
              "    <tr>\n",
              "      <th>171</th>\n",
              "      <td>2021-05-02 18:29:38.348</td>\n",
              "      <td>1990-1999</td>\n",
              "      <td>Liverpool</td>\n",
              "      <td>Manchester United</td>\n",
              "    </tr>\n",
              "    <tr>\n",
              "      <th>172</th>\n",
              "      <td>2021-05-02 21:04:09.818</td>\n",
              "      <td>1980-1989</td>\n",
              "      <td>Liverpool</td>\n",
              "      <td>Manchester United</td>\n",
              "    </tr>\n",
              "    <tr>\n",
              "      <th>173</th>\n",
              "      <td>2021-05-02 21:17:43.324</td>\n",
              "      <td>1990-1999</td>\n",
              "      <td>Chelsea</td>\n",
              "      <td>Liverpool</td>\n",
              "    </tr>\n",
              "    <tr>\n",
              "      <th>174</th>\n",
              "      <td>2021-05-02 21:30:38.881</td>\n",
              "      <td>1990-1999</td>\n",
              "      <td>Spurs</td>\n",
              "      <td>Arsenal</td>\n",
              "    </tr>\n",
              "    <tr>\n",
              "      <th>175</th>\n",
              "      <td>2021-05-05 11:48:35.765</td>\n",
              "      <td>1990-1999</td>\n",
              "      <td>Liverpool</td>\n",
              "      <td>Manchester United</td>\n",
              "    </tr>\n",
              "  </tbody>\n",
              "</table>\n",
              "<p>176 rows × 4 columns</p>\n",
              "</div>"
            ],
            "text/plain": [
              "                       Time Year_Interval     Team_Supporter         Team_Hater\n",
              "0   2021-05-01 23:10:46.895     1990-1999            Arsenal              Spurs\n",
              "1   2021-05-01 23:10:55.895     1990-1999            Chelsea  Manchester United\n",
              "2   2021-05-01 23:11:48.714     1990-1999  Manchester United          Liverpool\n",
              "3   2021-05-01 23:12:08.657     1980-1989            Arsenal  Manchester United\n",
              "4   2021-05-01 23:13:29.379     1990-1999          Liverpool  Manchester United\n",
              "..                      ...           ...                ...                ...\n",
              "171 2021-05-02 18:29:38.348     1990-1999          Liverpool  Manchester United\n",
              "172 2021-05-02 21:04:09.818     1980-1989          Liverpool  Manchester United\n",
              "173 2021-05-02 21:17:43.324     1990-1999            Chelsea          Liverpool\n",
              "174 2021-05-02 21:30:38.881     1990-1999              Spurs            Arsenal\n",
              "175 2021-05-05 11:48:35.765     1990-1999          Liverpool  Manchester United\n",
              "\n",
              "[176 rows x 4 columns]"
            ]
          },
          "metadata": {
            "tags": []
          },
          "execution_count": 72
        }
      ]
    },
    {
      "cell_type": "code",
      "metadata": {
        "colab": {
          "base_uri": "https://localhost:8080/"
        },
        "id": "Cj6-2C2NAv6f",
        "outputId": "2f6a7fec-c910-47ac-f289-ff9f3ebccae0"
      },
      "source": [
        "df_ggsheet.groupby(\"Team_Supporter\").size()"
      ],
      "execution_count": 73,
      "outputs": [
        {
          "output_type": "execute_result",
          "data": {
            "text/plain": [
              "Team_Supporter\n",
              "Arsenal              16\n",
              "Chelsea              34\n",
              "Liverpool            30\n",
              "Manchester City      14\n",
              "Manchester United    73\n",
              "Spurs                 9\n",
              "dtype: int64"
            ]
          },
          "metadata": {
            "tags": []
          },
          "execution_count": 73
        }
      ]
    },
    {
      "cell_type": "code",
      "metadata": {
        "colab": {
          "base_uri": "https://localhost:8080/",
          "height": 677
        },
        "id": "0GFo4yX37OMg",
        "outputId": "3f270789-7cbb-4187-f56c-815b2d610480"
      },
      "source": [
        "plt.figure(figsize=(20,8))\n",
        "groups = df_ggsheet.groupby(['Team_Supporter','Team_Hater']).size()\n",
        "groups.plot.bar()\n",
        "plt.savefig(\"/content/drive/MyDrive/BADS7105_CRM_ANALYTICS_AND_INTELLIGENT/HW_09_AB Testing/Overall ratio hater.png\",format='png',dpi=150)"
      ],
      "execution_count": 99,
      "outputs": [
        {
          "output_type": "display_data",
          "data": {
            "image/png": "[encoded data removed]",
            "text/plain": [
              "<Figure size 1440x576 with 1 Axes>"
            ]
          },
          "metadata": {
            "tags": [],
            "needs_background": "light"
          }
        }
      ]
    },
    {
      "cell_type": "code",
      "metadata": {
        "colab": {
          "base_uri": "https://localhost:8080/",
          "height": 585
        },
        "id": "3B2WQnlG799u",
        "outputId": "1db417db-8009-4b9f-9754-e65e19eadd78"
      },
      "source": [
        "plt.figure(figsize=(20,8))\n",
        "df_ggsheet['Team_Supporter'].value_counts().plot.pie()\n",
        "plt.tight_layout()\n",
        "plt.savefig(\"/content/drive/MyDrive/BADS7105_CRM_ANALYTICS_AND_INTELLIGENT/HW_09_AB Testing/Overall ratio support.png\",format='png',dpi=150)"
      ],
      "execution_count": 100,
      "outputs": [
        {
          "output_type": "display_data",
          "data": {
            "image/png": "[encoded data removed]",
            "text/plain": [
              "<Figure size 1440x576 with 1 Axes>"
            ]
          },
          "metadata": {
            "tags": []
          }
        }
      ]
    },
    {
      "cell_type": "code",
      "metadata": {
        "colab": {
          "base_uri": "https://localhost:8080/",
          "height": 260
        },
        "id": "R0cV2EVs3pv2",
        "outputId": "f157d3d4-bad5-4736-b6e7-472432da7d58"
      },
      "source": [
        "df_agg_data = df_ggsheet[[\"Team_Supporter\",\"Year_Interval\",\"Team_Hater\"]].groupby([\"Year_Interval\",\"Team_Supporter\",\"Team_Hater\"]).size().reset_index().rename({0:\"Count\"},axis=1)\n",
        "df_agg_data.pivot_table(index=\"Team_Supporter\",columns=\"Team_Hater\",aggfunc=\"sum\").fillna(0).reset_index()"
      ],
      "execution_count": 76,
      "outputs": [
        {
          "output_type": "execute_result",
          "data": {
            "text/html": [
              "<div>\n",
              "<style scoped>\n",
              "    .dataframe tbody tr th:only-of-type {\n",
              "        vertical-align: middle;\n",
              "    }\n",
              "\n",
              "    .dataframe tbody tr th {\n",
              "        vertical-align: top;\n",
              "    }\n",
              "\n",
              "    .dataframe thead tr th {\n",
              "        text-align: left;\n",
              "    }\n",
              "</style>\n",
              "<table border=\"1\" class=\"dataframe\">\n",
              "  <thead>\n",
              "    <tr>\n",
              "      <th></th>\n",
              "      <th>Team_Supporter</th>\n",
              "      <th colspan=\"6\" halign=\"left\">Count</th>\n",
              "    </tr>\n",
              "    <tr>\n",
              "      <th>Team_Hater</th>\n",
              "      <th></th>\n",
              "      <th>Arsenal</th>\n",
              "      <th>Chelsea</th>\n",
              "      <th>Liverpool</th>\n",
              "      <th>Manchester City</th>\n",
              "      <th>Manchester United</th>\n",
              "      <th>Spurs</th>\n",
              "    </tr>\n",
              "  </thead>\n",
              "  <tbody>\n",
              "    <tr>\n",
              "      <th>0</th>\n",
              "      <td>Arsenal</td>\n",
              "      <td>0.0</td>\n",
              "      <td>2.0</td>\n",
              "      <td>2.0</td>\n",
              "      <td>0.0</td>\n",
              "      <td>6.0</td>\n",
              "      <td>6.0</td>\n",
              "    </tr>\n",
              "    <tr>\n",
              "      <th>1</th>\n",
              "      <td>Chelsea</td>\n",
              "      <td>0.0</td>\n",
              "      <td>0.0</td>\n",
              "      <td>16.0</td>\n",
              "      <td>1.0</td>\n",
              "      <td>10.0</td>\n",
              "      <td>7.0</td>\n",
              "    </tr>\n",
              "    <tr>\n",
              "      <th>2</th>\n",
              "      <td>Liverpool</td>\n",
              "      <td>0.0</td>\n",
              "      <td>1.0</td>\n",
              "      <td>0.0</td>\n",
              "      <td>0.0</td>\n",
              "      <td>29.0</td>\n",
              "      <td>0.0</td>\n",
              "    </tr>\n",
              "    <tr>\n",
              "      <th>3</th>\n",
              "      <td>Manchester City</td>\n",
              "      <td>0.0</td>\n",
              "      <td>0.0</td>\n",
              "      <td>7.0</td>\n",
              "      <td>0.0</td>\n",
              "      <td>5.0</td>\n",
              "      <td>2.0</td>\n",
              "    </tr>\n",
              "    <tr>\n",
              "      <th>4</th>\n",
              "      <td>Manchester United</td>\n",
              "      <td>2.0</td>\n",
              "      <td>2.0</td>\n",
              "      <td>59.0</td>\n",
              "      <td>9.0</td>\n",
              "      <td>0.0</td>\n",
              "      <td>1.0</td>\n",
              "    </tr>\n",
              "    <tr>\n",
              "      <th>5</th>\n",
              "      <td>Spurs</td>\n",
              "      <td>4.0</td>\n",
              "      <td>1.0</td>\n",
              "      <td>2.0</td>\n",
              "      <td>0.0</td>\n",
              "      <td>2.0</td>\n",
              "      <td>0.0</td>\n",
              "    </tr>\n",
              "  </tbody>\n",
              "</table>\n",
              "</div>"
            ],
            "text/plain": [
              "               Team_Supporter   Count  ...                        \n",
              "Team_Hater                    Arsenal  ... Manchester United Spurs\n",
              "0                     Arsenal     0.0  ...               6.0   6.0\n",
              "1                     Chelsea     0.0  ...              10.0   7.0\n",
              "2                   Liverpool     0.0  ...              29.0   0.0\n",
              "3             Manchester City     0.0  ...               5.0   2.0\n",
              "4           Manchester United     2.0  ...               0.0   1.0\n",
              "5                       Spurs     4.0  ...               2.0   0.0\n",
              "\n",
              "[6 rows x 7 columns]"
            ]
          },
          "metadata": {
            "tags": []
          },
          "execution_count": 76
        }
      ]
    },
    {
      "cell_type": "code",
      "metadata": {
        "id": "7fHU1JpJTF8e"
      },
      "source": [
        "df_agg_data_adj = df_agg_data.pivot_table(index=\"Team_Supporter\",columns=\"Team_Hater\",aggfunc=np.sum).fillna(0).reset_index()\n",
        "df_agg_data_adj.columns = df_agg_data_adj.columns.droplevel()\n",
        "df_agg_data_adj = df_agg_data_adj.rename({\"\":\"Team_Supporter\"},axis=1)"
      ],
      "execution_count": 148,
      "outputs": []
    },
    {
      "cell_type": "code",
      "metadata": {
        "colab": {
          "base_uri": "https://localhost:8080/",
          "height": 543
        },
        "id": "TczzWS_5HG1a",
        "outputId": "19d8c352-4f2b-420d-d9dd-2596a206010f"
      },
      "source": [
        "i = ls_sel_tm[0]\n",
        "print(\"------------ ทดสอบสัดส่วนความของต่างของคนที่ชอบเชียร์ทีม ->\" , i , \"------------\")\n",
        "print()\n",
        "print(f'H0 : แฟนบอลที่เชียร์สโมสร {i} มีสัดส่วนในความไม่ชอบทีมอื่นๆใน Big6 ไม่แตกต่างกัน')\n",
        "print(f'H1 : แฟนบอลที่เชียร์สโมสร {i} มีสัดส่วนในความไม่ชอบทีมอื่นๆใน Big6 แตกต่างกัน')\n",
        "print(\"ที่ระดับนัยสำคัญ 0.05\")\n",
        "print()\n",
        "data_sel = df_agg_data_adj[df_agg_data_adj[\"Team_Supporter\"] == i]\n",
        "ls_sell_new = [ij for ij in ls_sel_tm if ij != i]\n",
        "ls_data_sel = data_sel[data_sel[\"Team_Supporter\"] == i].values[0][1:]\n",
        "ttsrt = data_sel[data_sel[\"Team_Supporter\"]==i][ls_sell_new].T\n",
        "ttsrt.columns = [\"Count\"]\n",
        "ttsrt = ttsrt.sort_values(by=[\"Count\"],ascending=False)\n",
        "# ck_len = 5-len(ls_data_sel)\n",
        "# if len(ls_data_sel) < 5 :\n",
        "#   for kk in range(ck_len) :\n",
        "#     ls_data_sel.append(0)\n",
        "result = chisquare(ls_data_sel)\n",
        "if result[1] > 0.05 :\n",
        "  print(f'แฟนบอลสโมสร {i} มีความไม่ชอบต่อสโมสรใน Big6 ไม่แตกต่างกันอย่างมีนัยสำคัญ โดยมีค่า P-Value = {result[1]}')\n",
        "else :\n",
        "  print(f'แฟนบอลสโมสร {i} มีความไม่ชอบต่อสโมสรใน Big6 แตกต่างกันอย่างมีนัยสำคัญ โดยมีค่า P-Value = {result[1]}')\n",
        "  print()\n",
        "  print(f'>>>>>>>>> ทีมที่แฟนบอลสโมสร {i} ไม่ชอบมากที่สุดคือ {ttsrt.index[0]} <<<<<<<<<<')\n",
        "print()\n",
        "toplot = data_sel[ls_sell_new].T.reset_index()\n",
        "toplot.columns = [\"Team_Hater\" , \"Count\"]\n",
        "toplot.plot.bar(x=\"Team_Hater\",y=\"Count\")\n",
        "plt.title(i)\n",
        "plt.savefig(f'/content/drive/MyDrive/BADS7105_CRM_ANALYTICS_AND_INTELLIGENT/HW_09_AB Testing/Overall hate by {i}.png',format='png',dpi=150)\n",
        "# data_sel.plot.bar(x=\"Team_Hater\",y=\"Count\")"
      ],
      "execution_count": 192,
      "outputs": [
        {
          "output_type": "stream",
          "text": [
            "------------ ทดสอบสัดส่วนความของต่างของคนที่ชอบเชียร์ทีม -> Arsenal ------------\n",
            "\n",
            "H0 : แฟนบอลที่เชียร์สโมสร Arsenal มีสัดส่วนในความไม่ชอบทีมอื่นๆใน Big6 ไม่แตกต่างกัน\n",
            "H1 : แฟนบอลที่เชียร์สโมสร Arsenal มีสัดส่วนในความไม่ชอบทีมอื่นๆใน Big6 แตกต่างกัน\n",
            "ที่ระดับนัยสำคัญ 0.05\n",
            "\n",
            "แฟนบอลสโมสร Arsenal มีความไม่ชอบต่อสโมสรใน Big6 แตกต่างกันอย่างมีนัยสำคัญ โดยมีค่า P-Value = 0.015609416100266893\n",
            "\n",
            ">>>>>>>>> ทีมที่แฟนบอลสโมสร Arsenal ไม่ชอบมากที่สุดคือ Manchester United <<<<<<<<<<\n",
            "\n"
          ],
          "name": "stdout"
        },
        {
          "output_type": "display_data",
          "data": {
            "image/png": "[encoded data removed]",
            "text/plain": [
              "<Figure size 432x288 with 1 Axes>"
            ]
          },
          "metadata": {
            "tags": [],
            "needs_background": "light"
          }
        }
      ]
    },
    {
      "cell_type": "code",
      "metadata": {
        "colab": {
          "base_uri": "https://localhost:8080/",
          "height": 543
        },
        "id": "mnLZ6SQZaCB_",
        "outputId": "14187936-302b-4be0-ec55-ba2e7b174c24"
      },
      "source": [
        "i = ls_sel_tm[1]\n",
        "print(\"------------ ทดสอบสัดส่วนความของต่างของคนที่ชอบเชียร์ทีม ->\" , i , \"------------\")\n",
        "print()\n",
        "print(f'H0 : แฟนบอลที่เชียร์สโมสร {i} มีสัดส่วนในความไม่ชอบทีมอื่นๆใน Big6 ไม่แตกต่างกัน')\n",
        "print(f'H1 : แฟนบอลที่เชียร์สโมสร {i} มีสัดส่วนในความไม่ชอบทีมอื่นๆใน Big6 แตกต่างกัน')\n",
        "print(\"ที่ระดับนัยสำคัญ 0.05\")\n",
        "print()\n",
        "data_sel = df_agg_data_adj[df_agg_data_adj[\"Team_Supporter\"] == i]\n",
        "ls_sell_new = [ij for ij in ls_sel_tm if ij != i]\n",
        "ls_data_sel = data_sel[data_sel[\"Team_Supporter\"] == i].values[0][1:]\n",
        "ttsrt = data_sel[data_sel[\"Team_Supporter\"]==i][ls_sell_new].T\n",
        "ttsrt.columns = [\"Count\"]\n",
        "ttsrt = ttsrt.sort_values(by=[\"Count\"],ascending=False)\n",
        "# ck_len = 5-len(ls_data_sel)\n",
        "# if len(ls_data_sel) < 5 :\n",
        "#   for kk in range(ck_len) :\n",
        "#     ls_data_sel.append(0)\n",
        "result = chisquare(ls_data_sel)\n",
        "if result[1] > 0.05 :\n",
        "  print(f'แฟนบอลสโมสร {i} มีความไม่ชอบต่อสโมสรใน Big6 ไม่แตกต่างกันอย่างมีนัยสำคัญ โดยมีค่า P-Value = {result[1]}')\n",
        "else :\n",
        "  print(f'แฟนบอลสโมสร {i} มีความไม่ชอบต่อสโมสรใน Big6 แตกต่างกันอย่างมีนัยสำคัญ โดยมีค่า P-Value = {result[1]}')\n",
        "  print()\n",
        "  print(f'>>>>>>>>> ทีมที่แฟนบอลสโมสร {i} ไม่ชอบมากที่สุดคือ {ttsrt.index[0]} <<<<<<<<<<')\n",
        "print()\n",
        "toplot = data_sel[ls_sell_new].T.reset_index()\n",
        "toplot.columns = [\"Team_Hater\" , \"Count\"]\n",
        "toplot.plot.bar(x=\"Team_Hater\",y=\"Count\")\n",
        "plt.title(i)\n",
        "plt.savefig(f'/content/drive/MyDrive/BADS7105_CRM_ANALYTICS_AND_INTELLIGENT/HW_09_AB Testing/Overall hate by {i}.png',format='png',dpi=150)\n",
        "# data_sel.plot.bar(x=\"Team_Hater\",y=\"Count\")"
      ],
      "execution_count": 193,
      "outputs": [
        {
          "output_type": "stream",
          "text": [
            "------------ ทดสอบสัดส่วนความของต่างของคนที่ชอบเชียร์ทีม -> Chelsea ------------\n",
            "\n",
            "H0 : แฟนบอลที่เชียร์สโมสร Chelsea มีสัดส่วนในความไม่ชอบทีมอื่นๆใน Big6 ไม่แตกต่างกัน\n",
            "H1 : แฟนบอลที่เชียร์สโมสร Chelsea มีสัดส่วนในความไม่ชอบทีมอื่นๆใน Big6 แตกต่างกัน\n",
            "ที่ระดับนัยสำคัญ 0.05\n",
            "\n",
            "แฟนบอลสโมสร Chelsea มีความไม่ชอบต่อสโมสรใน Big6 แตกต่างกันอย่างมีนัยสำคัญ โดยมีค่า P-Value = 4.442097828924892e-07\n",
            "\n",
            ">>>>>>>>> ทีมที่แฟนบอลสโมสร Chelsea ไม่ชอบมากที่สุดคือ Liverpool <<<<<<<<<<\n",
            "\n"
          ],
          "name": "stdout"
        },
        {
          "output_type": "display_data",
          "data": {
            "image/png": "[encoded data removed]",
            "text/plain": [
              "<Figure size 432x288 with 1 Axes>"
            ]
          },
          "metadata": {
            "tags": [],
            "needs_background": "light"
          }
        }
      ]
    },
    {
      "cell_type": "code",
      "metadata": {
        "colab": {
          "base_uri": "https://localhost:8080/",
          "height": 543
        },
        "id": "gzub_uBBaEyF",
        "outputId": "57f87d67-684c-4846-fb38-2dce9e01100e"
      },
      "source": [
        "i = ls_sel_tm[2]\n",
        "print(\"------------ ทดสอบสัดส่วนความของต่างของคนที่ชอบเชียร์ทีม ->\" , i , \"------------\")\n",
        "print()\n",
        "print(f'H0 : แฟนบอลที่เชียร์สโมสร {i} มีสัดส่วนในความไม่ชอบทีมอื่นๆใน Big6 ไม่แตกต่างกัน')\n",
        "print(f'H1 : แฟนบอลที่เชียร์สโมสร {i} มีสัดส่วนในความไม่ชอบทีมอื่นๆใน Big6 แตกต่างกัน')\n",
        "print(\"ที่ระดับนัยสำคัญ 0.05\")\n",
        "print()\n",
        "data_sel = df_agg_data_adj[df_agg_data_adj[\"Team_Supporter\"] == i]\n",
        "ls_sell_new = [ij for ij in ls_sel_tm if ij != i]\n",
        "ls_data_sel = data_sel[data_sel[\"Team_Supporter\"] == i].values[0][1:]\n",
        "ttsrt = data_sel[data_sel[\"Team_Supporter\"]==i][ls_sell_new].T\n",
        "ttsrt.columns = [\"Count\"]\n",
        "ttsrt = ttsrt.sort_values(by=[\"Count\"],ascending=False)\n",
        "# ck_len = 5-len(ls_data_sel)\n",
        "# if len(ls_data_sel) < 5 :\n",
        "#   for kk in range(ck_len) :\n",
        "#     ls_data_sel.append(0)\n",
        "result = chisquare(ls_data_sel)\n",
        "if result[1] > 0.05 :\n",
        "  print(f'แฟนบอลสโมสร {i} มีความไม่ชอบต่อสโมสรใน Big6 ไม่แตกต่างกันอย่างมีนัยสำคัญ โดยมีค่า P-Value = {result[1]}')\n",
        "else :\n",
        "  print(f'แฟนบอลสโมสร {i} มีความไม่ชอบต่อสโมสรใน Big6 แตกต่างกันอย่างมีนัยสำคัญ โดยมีค่า P-Value = {result[1]}')\n",
        "  print()\n",
        "  print(f'>>>>>>>>> ทีมที่แฟนบอลสโมสร {i} ไม่ชอบมากที่สุดคือ {ttsrt.index[0]} <<<<<<<<<<')\n",
        "print()\n",
        "toplot = data_sel[ls_sell_new].T.reset_index()\n",
        "toplot.columns = [\"Team_Hater\" , \"Count\"]\n",
        "toplot.plot.bar(x=\"Team_Hater\",y=\"Count\")\n",
        "plt.title(i)\n",
        "plt.savefig(f'/content/drive/MyDrive/BADS7105_CRM_ANALYTICS_AND_INTELLIGENT/HW_09_AB Testing/Overall hate by {i}.png',format='png',dpi=150)\n",
        "# data_sel.plot.bar(x=\"Team_Hater\",y=\"Count\")"
      ],
      "execution_count": 194,
      "outputs": [
        {
          "output_type": "stream",
          "text": [
            "------------ ทดสอบสัดส่วนความของต่างของคนที่ชอบเชียร์ทีม -> Liverpool ------------\n",
            "\n",
            "H0 : แฟนบอลที่เชียร์สโมสร Liverpool มีสัดส่วนในความไม่ชอบทีมอื่นๆใน Big6 ไม่แตกต่างกัน\n",
            "H1 : แฟนบอลที่เชียร์สโมสร Liverpool มีสัดส่วนในความไม่ชอบทีมอื่นๆใน Big6 แตกต่างกัน\n",
            "ที่ระดับนัยสำคัญ 0.05\n",
            "\n",
            "แฟนบอลสโมสร Liverpool มีความไม่ชอบต่อสโมสรใน Big6 แตกต่างกันอย่างมีนัยสำคัญ โดยมีค่า P-Value = 3.9149319180782143e-28\n",
            "\n",
            ">>>>>>>>> ทีมที่แฟนบอลสโมสร Liverpool ไม่ชอบมากที่สุดคือ Manchester United <<<<<<<<<<\n",
            "\n"
          ],
          "name": "stdout"
        },
        {
          "output_type": "display_data",
          "data": {
            "image/png": "[encoded data removed]",
            "text/plain": [
              "<Figure size 432x288 with 1 Axes>"
            ]
          },
          "metadata": {
            "tags": [],
            "needs_background": "light"
          }
        }
      ]
    },
    {
      "cell_type": "code",
      "metadata": {
        "colab": {
          "base_uri": "https://localhost:8080/",
          "height": 543
        },
        "id": "3RHJD9gJaH6U",
        "outputId": "e0404277-855a-44df-e4f0-004fcd0b6292"
      },
      "source": [
        "i = ls_sel_tm[3]\n",
        "print(\"------------ ทดสอบสัดส่วนความของต่างของคนที่ชอบเชียร์ทีม ->\" , i , \"------------\")\n",
        "print()\n",
        "print(f'H0 : แฟนบอลที่เชียร์สโมสร {i} มีสัดส่วนในความไม่ชอบทีมอื่นๆใน Big6 ไม่แตกต่างกัน')\n",
        "print(f'H1 : แฟนบอลที่เชียร์สโมสร {i} มีสัดส่วนในความไม่ชอบทีมอื่นๆใน Big6 แตกต่างกัน')\n",
        "print(\"ที่ระดับนัยสำคัญ 0.05\")\n",
        "print()\n",
        "data_sel = df_agg_data_adj[df_agg_data_adj[\"Team_Supporter\"] == i]\n",
        "ls_sell_new = [ij for ij in ls_sel_tm if ij != i]\n",
        "ls_data_sel = data_sel[data_sel[\"Team_Supporter\"] == i].values[0][1:]\n",
        "ttsrt = data_sel[data_sel[\"Team_Supporter\"]==i][ls_sell_new].T\n",
        "ttsrt.columns = [\"Count\"]\n",
        "ttsrt = ttsrt.sort_values(by=[\"Count\"],ascending=False)\n",
        "# ck_len = 5-len(ls_data_sel)\n",
        "# if len(ls_data_sel) < 5 :\n",
        "#   for kk in range(ck_len) :\n",
        "#     ls_data_sel.append(0)\n",
        "result = chisquare(ls_data_sel)\n",
        "if result[1] > 0.05 :\n",
        "  print(f'แฟนบอลสโมสร {i} มีความไม่ชอบต่อสโมสรใน Big6 ไม่แตกต่างกันอย่างมีนัยสำคัญ โดยมีค่า P-Value = {result[1]}')\n",
        "else :\n",
        "  print(f'แฟนบอลสโมสร {i} มีความไม่ชอบต่อสโมสรใน Big6 แตกต่างกันอย่างมีนัยสำคัญ โดยมีค่า P-Value = {result[1]}')\n",
        "  print()\n",
        "  print(f'>>>>>>>>> ทีมที่แฟนบอลสโมสร {i} ไม่ชอบมากที่สุดคือ {ttsrt.index[0]} <<<<<<<<<<')\n",
        "print()\n",
        "toplot = data_sel[ls_sell_new].T.reset_index()\n",
        "toplot.columns = [\"Team_Hater\" , \"Count\"]\n",
        "toplot.plot.bar(x=\"Team_Hater\",y=\"Count\")\n",
        "plt.title(i)\n",
        "plt.savefig(f'/content/drive/MyDrive/BADS7105_CRM_ANALYTICS_AND_INTELLIGENT/HW_09_AB Testing/Overall hate by {i}.png',format='png',dpi=150)\n",
        "# data_sel.plot.bar(x=\"Team_Hater\",y=\"Count\")"
      ],
      "execution_count": 195,
      "outputs": [
        {
          "output_type": "stream",
          "text": [
            "------------ ทดสอบสัดส่วนความของต่างของคนที่ชอบเชียร์ทีม -> Manchester City ------------\n",
            "\n",
            "H0 : แฟนบอลที่เชียร์สโมสร Manchester City มีสัดส่วนในความไม่ชอบทีมอื่นๆใน Big6 ไม่แตกต่างกัน\n",
            "H1 : แฟนบอลที่เชียร์สโมสร Manchester City มีสัดส่วนในความไม่ชอบทีมอื่นๆใน Big6 แตกต่างกัน\n",
            "ที่ระดับนัยสำคัญ 0.05\n",
            "\n",
            "แฟนบอลสโมสร Manchester City มีความไม่ชอบต่อสโมสรใน Big6 แตกต่างกันอย่างมีนัยสำคัญ โดยมีค่า P-Value = 0.001598917522052272\n",
            "\n",
            ">>>>>>>>> ทีมที่แฟนบอลสโมสร Manchester City ไม่ชอบมากที่สุดคือ Liverpool <<<<<<<<<<\n",
            "\n"
          ],
          "name": "stdout"
        },
        {
          "output_type": "display_data",
          "data": {
            "image/png": "[encoded data removed]",
            "text/plain": [
              "<Figure size 432x288 with 1 Axes>"
            ]
          },
          "metadata": {
            "tags": [],
            "needs_background": "light"
          }
        }
      ]
    },
    {
      "cell_type": "code",
      "metadata": {
        "colab": {
          "base_uri": "https://localhost:8080/",
          "height": 530
        },
        "id": "vkDEwl3caKst",
        "outputId": "cb887d94-d648-479b-91b6-e2799b034118"
      },
      "source": [
        "i = ls_sel_tm[4]\n",
        "print(\"------------ ทดสอบสัดส่วนความของต่างของคนที่ชอบเชียร์ทีม ->\" , i , \"------------\")\n",
        "print()\n",
        "print(f'H0 : แฟนบอลที่เชียร์สโมสร {i} มีสัดส่วนในความไม่ชอบทีมอื่นๆใน Big6 ไม่แตกต่างกัน')\n",
        "print(f'H1 : แฟนบอลที่เชียร์สโมสร {i} มีสัดส่วนในความไม่ชอบทีมอื่นๆใน Big6 แตกต่างกัน')\n",
        "print(\"ที่ระดับนัยสำคัญ 0.05\")\n",
        "print()\n",
        "data_sel = df_agg_data_adj[df_agg_data_adj[\"Team_Supporter\"] == i]\n",
        "ls_sell_new = [ij for ij in ls_sel_tm if ij != i]\n",
        "ls_data_sel = data_sel[data_sel[\"Team_Supporter\"] == i].values[0][1:]\n",
        "ttsrt = data_sel[data_sel[\"Team_Supporter\"]==i][ls_sell_new].T\n",
        "ttsrt.columns = [\"Count\"]\n",
        "ttsrt = ttsrt.sort_values(by=[\"Count\"],ascending=False)\n",
        "# ck_len = 5-len(ls_data_sel)\n",
        "# if len(ls_data_sel) < 5 :\n",
        "#   for kk in range(ck_len) :\n",
        "#     ls_data_sel.append(0)\n",
        "result = chisquare(ls_data_sel)\n",
        "if result[1] > 0.05 :\n",
        "  print(f'แฟนบอลสโมสร {i} มีความไม่ชอบต่อสโมสรใน Big6 ไม่แตกต่างกันอย่างมีนัยสำคัญ โดยมีค่า P-Value = {result[1]}')\n",
        "else :\n",
        "  print(f'แฟนบอลสโมสร {i} มีความไม่ชอบต่อสโมสรใน Big6 แตกต่างกันอย่างมีนัยสำคัญ โดยมีค่า P-Value = {result[1]}')\n",
        "  print()\n",
        "  print(f'>>>>>>>>> ทีมที่แฟนบอลสโมสร {i} ไม่ชอบมากที่สุดคือ {ttsrt.index[0]} <<<<<<<<<<')\n",
        "print()\n",
        "toplot = data_sel[ls_sell_new].T.reset_index()\n",
        "toplot.columns = [\"Team_Hater\" , \"Count\"]\n",
        "toplot.plot.bar(x=\"Team_Hater\",y=\"Count\")\n",
        "plt.title(i)\n",
        "plt.savefig(f'/content/drive/MyDrive/BADS7105_CRM_ANALYTICS_AND_INTELLIGENT/HW_09_AB Testing/Overall hate by {i}.png',format='png',dpi=150)\n",
        "# data_sel.plot.bar(x=\"Team_Hater\",y=\"Count\")"
      ],
      "execution_count": 196,
      "outputs": [
        {
          "output_type": "stream",
          "text": [
            "------------ ทดสอบสัดส่วนความของต่างของคนที่ชอบเชียร์ทีม -> Manchester United ------------\n",
            "\n",
            "H0 : แฟนบอลที่เชียร์สโมสร Manchester United มีสัดส่วนในความไม่ชอบทีมอื่นๆใน Big6 ไม่แตกต่างกัน\n",
            "H1 : แฟนบอลที่เชียร์สโมสร Manchester United มีสัดส่วนในความไม่ชอบทีมอื่นๆใน Big6 แตกต่างกัน\n",
            "ที่ระดับนัยสำคัญ 0.05\n",
            "\n",
            "แฟนบอลสโมสร Manchester United มีความไม่ชอบต่อสโมสรใน Big6 แตกต่างกันอย่างมีนัยสำคัญ โดยมีค่า P-Value = 1.1571590660197325e-45\n",
            "\n",
            ">>>>>>>>> ทีมที่แฟนบอลสโมสร Manchester United ไม่ชอบมากที่สุดคือ Liverpool <<<<<<<<<<\n",
            "\n"
          ],
          "name": "stdout"
        },
        {
          "output_type": "display_data",
          "data": {
            "image/png": "[encoded data removed]",
            "text/plain": [
              "<Figure size 432x288 with 1 Axes>"
            ]
          },
          "metadata": {
            "tags": [],
            "needs_background": "light"
          }
        }
      ]
    },
    {
      "cell_type": "code",
      "metadata": {
        "colab": {
          "base_uri": "https://localhost:8080/",
          "height": 511
        },
        "id": "nPvRNNjdaOWt",
        "outputId": "8377c9a8-bc38-4dd9-d7a9-516588c5ea71"
      },
      "source": [
        "i = ls_sel_tm[5]\n",
        "print(\"------------ ทดสอบสัดส่วนความของต่างของคนที่ชอบเชียร์ทีม ->\" , i , \"------------\")\n",
        "print()\n",
        "print(f'H0 : แฟนบอลที่เชียร์สโมสร {i} มีสัดส่วนในความไม่ชอบทีมอื่นๆใน Big6 ไม่แตกต่างกัน')\n",
        "print(f'H1 : แฟนบอลที่เชียร์สโมสร {i} มีสัดส่วนในความไม่ชอบทีมอื่นๆใน Big6 แตกต่างกัน')\n",
        "print(\"ที่ระดับนัยสำคัญ 0.05\")\n",
        "print()\n",
        "data_sel = df_agg_data_adj[df_agg_data_adj[\"Team_Supporter\"] == i]\n",
        "ls_sell_new = [ij for ij in ls_sel_tm if ij != i]\n",
        "ls_data_sel = data_sel[data_sel[\"Team_Supporter\"] == i].values[0][1:]\n",
        "ttsrt = data_sel[data_sel[\"Team_Supporter\"]==i][ls_sell_new].T\n",
        "ttsrt.columns = [\"Count\"]\n",
        "ttsrt = ttsrt.sort_values(by=[\"Count\"],ascending=False)\n",
        "# ck_len = 5-len(ls_data_sel)\n",
        "# if len(ls_data_sel) < 5 :\n",
        "#   for kk in range(ck_len) :\n",
        "#     ls_data_sel.append(0)\n",
        "result = chisquare(ls_data_sel)\n",
        "if result[1] > 0.05 :\n",
        "  print(f'แฟนบอลสโมสร {i} มีความไม่ชอบต่อสโมสรใน Big6 ไม่แตกต่างกันอย่างมีนัยสำคัญ โดยมีค่า P-Value = {result[1]}')\n",
        "else :\n",
        "  print(f'แฟนบอลสโมสร {i} มีความไม่ชอบต่อสโมสรใน Big6 แตกต่างกันอย่างมีนัยสำคัญ โดยมีค่า P-Value = {result[1]}')\n",
        "  print()\n",
        "  print(f'>>>>>>>>> ทีมที่แฟนบอลสโมสร {i} ไม่ชอบมากที่สุดคือ {ttsrt.index[0]} <<<<<<<<<<')\n",
        "print()\n",
        "toplot = data_sel[ls_sell_new].T.reset_index()\n",
        "toplot.columns = [\"Team_Hater\" , \"Count\"]\n",
        "toplot.plot.bar(x=\"Team_Hater\",y=\"Count\")\n",
        "plt.title(i)\n",
        "plt.savefig(f'/content/drive/MyDrive/BADS7105_CRM_ANALYTICS_AND_INTELLIGENT/HW_09_AB Testing/Overall hate by {i}.png',format='png',dpi=150)\n",
        "# data_sel.plot.bar(x=\"Team_Hater\",y=\"Count\")"
      ],
      "execution_count": 197,
      "outputs": [
        {
          "output_type": "stream",
          "text": [
            "------------ ทดสอบสัดส่วนความของต่างของคนที่ชอบเชียร์ทีม -> Spurs ------------\n",
            "\n",
            "H0 : แฟนบอลที่เชียร์สโมสร Spurs มีสัดส่วนในความไม่ชอบทีมอื่นๆใน Big6 ไม่แตกต่างกัน\n",
            "H1 : แฟนบอลที่เชียร์สโมสร Spurs มีสัดส่วนในความไม่ชอบทีมอื่นๆใน Big6 แตกต่างกัน\n",
            "ที่ระดับนัยสำคัญ 0.05\n",
            "\n",
            "แฟนบอลสโมสร Spurs มีความไม่ชอบต่อสโมสรใน Big6 ไม่แตกต่างกันอย่างมีนัยสำคัญ โดยมีค่า P-Value = 0.17558838731303802\n",
            "\n"
          ],
          "name": "stdout"
        },
        {
          "output_type": "display_data",
          "data": {
            "image/png": "[encoded data removed]",
            "text/plain": [
              "<Figure size 432x288 with 1 Axes>"
            ]
          },
          "metadata": {
            "tags": [],
            "needs_background": "light"
          }
        }
      ]
    }
  ]
}